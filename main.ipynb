{
 "cells": [
  {
   "cell_type": "markdown",
   "metadata": {},
   "source": [
    "请点击[此处](https://ai.baidu.com/docs#/AIStudio_Project_Notebook/a38e5576)查看本环境基本用法.  <br>\n",
    "Please click [here ](https://ai.baidu.com/docs#/AIStudio_Project_Notebook/a38e5576) for more detailed instructions. "
   ]
  },
  {
   "cell_type": "markdown",
   "metadata": {},
   "source": [
    "### 1 预训练模型\n",
    "我们首先在huggingface下载mengzi-t5-base模型以便后续训练。"
   ]
  },
  {
   "cell_type": "code",
   "execution_count": 48,
   "metadata": {
    "execution": {
     "iopub.execute_input": "2024-12-04T00:07:35.408664Z",
     "iopub.status.busy": "2024-12-04T00:07:35.407855Z",
     "iopub.status.idle": "2024-12-04T00:08:35.070234Z",
     "shell.execute_reply": "2024-12-04T00:08:35.068867Z",
     "shell.execute_reply.started": "2024-12-04T00:07:35.408621Z"
    },
    "scrolled": true,
    "tags": []
   },
   "outputs": [],
   "source": [
    "!curl -L -O https://hf-mirror.com/Langboat/mengzi-t5-base/resolve/main/pytorch_model.bin?download=True\n",
    "!curl -L -O https://hf-mirror.com/Langboat/mengzi-t5-base/resolve/main/config.json?download=true\n",
    "!curl -L -O https://hf-mirror.com/Langboat/mengzi-t5-base/resolve/main/spiece.vocab?download=true\n",
    "!curl -L -O https://hf-mirror.com/Langboat/mengzi-t5-base/resolve/main/spiece.model?download=true"
   ]
  },
  {
   "cell_type": "code",
   "execution_count": 51,
   "metadata": {
    "execution": {
     "iopub.execute_input": "2024-12-03T16:44:56.439374Z",
     "iopub.status.busy": "2024-12-03T16:44:56.439015Z",
     "iopub.status.idle": "2024-12-03T16:44:56.818589Z",
     "shell.execute_reply": "2024-12-03T16:44:56.817388Z",
     "shell.execute_reply.started": "2024-12-03T16:44:56.439349Z"
    },
    "scrolled": true
   },
   "outputs": [
    {
     "name": "stdout",
     "output_type": "stream",
     "text": [
      "Wed Dec  4 08:57:32 2024       \r\n",
      "+-----------------------------------------------------------------------------+\r\n",
      "| NVIDIA-SMI 525.125.06   Driver Version: 525.125.06   CUDA Version: 12.0     |\r\n",
      "|-------------------------------+----------------------+----------------------+\r\n",
      "| GPU  Name        Persistence-M| Bus-Id        Disp.A | Volatile Uncorr. ECC |\r\n",
      "| Fan  Temp  Perf  Pwr:Usage/Cap|         Memory-Usage | GPU-Util  Compute M. |\r\n",
      "|                               |                      |               MIG M. |\r\n",
      "|===============================+======================+======================|\r\n",
      "|   0  Tesla V100-SXM2...  On   | 00000000:03:00.0 Off |                    0 |\r\n",
      "| N/A   42C    P0    55W / 300W |   3207MiB / 32768MiB |      0%      Default |\r\n",
      "|                               |                      |                  N/A |\r\n",
      "+-------------------------------+----------------------+----------------------+\r\n",
      "                                                                               \r\n",
      "+-----------------------------------------------------------------------------+\r\n",
      "| Processes:                                                                  |\r\n",
      "|  GPU   GI   CI        PID   Type   Process name                  GPU Memory |\r\n",
      "|        ID   ID                                                   Usage      |\r\n",
      "|=============================================================================|\r\n",
      "+-----------------------------------------------------------------------------+\r\n"
     ]
    }
   ],
   "source": [
    "!nvidia-smi"
   ]
  },
  {
   "cell_type": "markdown",
   "metadata": {},
   "source": [
    "### 2 数据准备\n",
    "#### 2.1 数据下载\n",
    "这里的数据是使用[chinese-poetry](https://github.com/chinese-poetry/chinese-poetry)收集的唐诗宋词，由于飞桨平台已经内置该数据集，所以我们只需添加进来就可以了，这里是解压缩数据。"
   ]
  },
  {
   "cell_type": "code",
   "execution_count": 52,
   "metadata": {
    "execution": {
     "iopub.execute_input": "2024-12-03T16:44:56.820375Z",
     "iopub.status.busy": "2024-12-03T16:44:56.819898Z",
     "iopub.status.idle": "2024-12-03T16:44:57.119098Z",
     "shell.execute_reply": "2024-12-03T16:44:57.117759Z",
     "shell.execute_reply.started": "2024-12-03T16:44:56.820342Z"
    },
    "scrolled": true
   },
   "outputs": [
    {
     "name": "stdout",
     "output_type": "stream",
     "text": [
      "Archive:  ./data/data70759/poems_json.zip\r\n"
     ]
    }
   ],
   "source": [
    "!unzip -n ./data/data70759/poems_json.zip"
   ]
  },
  {
   "cell_type": "code",
   "execution_count": 53,
   "metadata": {
    "execution": {
     "iopub.execute_input": "2024-12-03T16:44:57.122021Z",
     "iopub.status.busy": "2024-12-03T16:44:57.121556Z",
     "iopub.status.idle": "2024-12-03T16:45:01.932979Z",
     "shell.execute_reply": "2024-12-03T16:45:01.923996Z",
     "shell.execute_reply.started": "2024-12-03T16:44:57.121990Z"
    },
    "scrolled": true
   },
   "outputs": [
    {
     "name": "stdout",
     "output_type": "stream",
     "text": [
      "\u001b[33mDEPRECATION: pytorch-lightning 1.5.10 has a non-standard dependency specifier torch>=1.7.*. pip 24.1 will enforce this behaviour change. A possible replacement is to upgrade to a newer version of pytorch-lightning or contact the author to suggest that they release a version with a conforming dependency specifiers. Discussion can be found at https://github.com/pypa/pip/issues/12063\u001b[0m\u001b[33m\r\n",
      "\u001b[0m"
     ]
    }
   ],
   "source": [
    "!pip install -q chinese-converter"
   ]
  },
  {
   "cell_type": "code",
   "execution_count": 54,
   "metadata": {
    "execution": {
     "iopub.execute_input": "2024-12-03T16:45:01.946176Z",
     "iopub.status.busy": "2024-12-03T16:45:01.938070Z",
     "iopub.status.idle": "2024-12-03T16:45:02.016441Z",
     "shell.execute_reply": "2024-12-03T16:45:02.014993Z",
     "shell.execute_reply.started": "2024-12-03T16:45:01.946129Z"
    },
    "scrolled": true
   },
   "outputs": [],
   "source": [
    "# IS_TEST_FLOW = True\n",
    "IS_TEST_FLOW = False"
   ]
  },
  {
   "cell_type": "code",
   "execution_count": 55,
   "metadata": {
    "execution": {
     "iopub.execute_input": "2024-12-03T16:45:02.018452Z",
     "iopub.status.busy": "2024-12-03T16:45:02.017858Z",
     "iopub.status.idle": "2024-12-03T16:45:03.915409Z",
     "shell.execute_reply": "2024-12-03T16:45:03.913798Z",
     "shell.execute_reply.started": "2024-12-03T16:45:02.018416Z"
    },
    "scrolled": true
   },
   "outputs": [],
   "source": [
    "import json\n",
    "import urllib.request\n",
    "import pandas as pd\n",
    "# from tqdm.notebook import tqdm\n",
    "import chinese_converter  # 繁体到简体需要\n",
    "import pickle\n",
    "import os\n",
    "import pandas as pd\n",
    "import numpy as np"
   ]
  },
  {
   "cell_type": "markdown",
   "metadata": {},
   "source": [
    "#### 2.2 数据处理\n",
    "处理json格式，读入数据"
   ]
  },
  {
   "cell_type": "code",
   "execution_count": 56,
   "metadata": {
    "execution": {
     "iopub.execute_input": "2024-12-03T16:45:03.917451Z",
     "iopub.status.busy": "2024-12-03T16:45:03.916855Z",
     "iopub.status.idle": "2024-12-03T16:45:04.008313Z",
     "shell.execute_reply": "2024-12-03T16:45:04.004738Z",
     "shell.execute_reply.started": "2024-12-03T16:45:03.917408Z"
    },
    "scrolled": true
   },
   "outputs": [],
   "source": [
    "# https://github.com/chinese-poetry/chinese-poetry, last update 04/18/2023\n",
    "POEM_CONTENT = {\n",
    "    'tang': {\n",
    "        'total': 58,\n",
    "        'pattern': \"./poems_json/poet.tang.{0}.json\"\n",
    "    },\n",
    "    'song': {\n",
    "        'total': 255,\n",
    "        'pattern': \"./poems_json/poet.song.{0}.json\"\n",
    "    }\n",
    "}\n",
    "\n",
    "def get_poems(is_test=True, verbose=True):\n",
    "  df_list = []\n",
    "  for dynasty in POEM_CONTENT:\n",
    "    size = 3 if is_test else POEM_CONTENT[dynasty]['total']\n",
    "    for i in range(size):\n",
    "      url = POEM_CONTENT[dynasty]['pattern'].format(i * 1000)\n",
    "      if verbose:\n",
    "        print(f\"load {url} now\")\n",
    "      df_list.append(pd.read_json(url))\n",
    "  return pd.concat(df_list)"
   ]
  },
  {
   "cell_type": "code",
   "execution_count": null,
   "metadata": {
    "scrolled": true,
    "tags": []
   },
   "outputs": [],
   "source": [
    "df = get_poems(is_test=IS_TEST_FLOW, verbose=True)\n",
    "df['concat_paragraphs'] = [''.join(map(str, l)) for l in df['paragraphs']]\n",
    "df = df[['author', 'title', 'concat_paragraphs']]\n",
    "\n",
    "def convert_schinese(tchinese):\n",
    "  return chinese_converter.to_simplified(tchinese)\n",
    "\n",
    "df['s_content'] = df.apply(lambda row: convert_schinese(''.join(row.concat_paragraphs)), axis=1)\n",
    "df['s_title'] = df.apply(lambda row: convert_schinese(''.join(row.title)), axis=1)\n",
    "df['s_author'] = df.apply(lambda row: convert_schinese(''.join(row.author)), axis=1)\n",
    "\n",
    "my_df = df\n",
    "print(\"my_df size\", len(my_df))"
   ]
  },
  {
   "cell_type": "code",
   "execution_count": 58,
   "metadata": {
    "execution": {
     "iopub.execute_input": "2024-12-03T16:45:05.815766Z",
     "iopub.status.busy": "2024-12-03T16:45:05.814939Z",
     "iopub.status.idle": "2024-12-03T16:45:06.345903Z",
     "shell.execute_reply": "2024-12-03T16:45:06.344511Z",
     "shell.execute_reply.started": "2024-12-03T16:45:05.815716Z"
    },
    "scrolled": true
   },
   "outputs": [
    {
     "name": "stdout",
     "output_type": "stream",
     "text": [
      "my_df size 311860\r\n"
     ]
    }
   ],
   "source": [
    "MAX_AUTHOR_CHAR = 4\n",
    "MAX_TITLE_CHAR = 12\n",
    "MIN_CONTENT_CHAR = 20\n",
    "MAX_CONTENT_CHAR = 32\n",
    "BAD_TOKENS = \" ()[]《》（）□{}abcdefgxyz一\"\n",
    "\n",
    "def trim_author_fn(row):\n",
    "  return row.s_author[:MAX_AUTHOR_CHAR]\n",
    "\n",
    "def trim_title_fn(row):\n",
    "  trimed_title = row.s_title[:MAX_TITLE_CHAR]\n",
    "  for b in BAD_TOKENS:\n",
    "    trimed_title = trimed_title.replace(b, \"\")\n",
    "  return trimed_title\n",
    "\n",
    "def trim_content_fn(row):\n",
    "  trimed_content = row.s_content[:MAX_CONTENT_CHAR]\n",
    "  # # End with a period to avoid partial ending to confuse model\n",
    "  for b in BAD_TOKENS:\n",
    "    trimed_content = trimed_content.replace(b, \"\")\n",
    "  last_period = trimed_content.rfind(\"。\")\n",
    "  return trimed_content[:last_period+1]\n",
    "  # return trimed_content\n",
    "\n",
    "# Trim the size, a soft copy to avoid the view/copy conflict warning\n",
    "my_df['s_author_trim'] = my_df.copy().apply(trim_author_fn, axis=1)\n",
    "my_df['s_title_trim'] = my_df.copy().apply(trim_title_fn, axis=1)\n",
    "my_df['s_content_trim'] = my_df.copy().apply(trim_content_fn, axis=1)\n",
    "\n",
    "print(\"my_df size\", len(my_df))"
   ]
  },
  {
   "cell_type": "markdown",
   "metadata": {},
   "source": [
    "对数据进行筛选"
   ]
  },
  {
   "cell_type": "code",
   "execution_count": 59,
   "metadata": {
    "execution": {
     "iopub.execute_input": "2024-12-03T16:45:06.347271Z",
     "iopub.status.busy": "2024-12-03T16:45:06.346864Z",
     "iopub.status.idle": "2024-12-03T16:45:06.423423Z",
     "shell.execute_reply": "2024-12-03T16:45:06.421914Z",
     "shell.execute_reply.started": "2024-12-03T16:45:06.347234Z"
    },
    "scrolled": true
   },
   "outputs": [
    {
     "name": "stdout",
     "output_type": "stream",
     "text": [
      "my_df size 297836\r\n"
     ]
    }
   ],
   "source": [
    "# Title cannot be empty\n",
    "empty_title_mask = (my_df['s_title_trim'].str.len() == 0)\n",
    "too_short_cotent_mask = (my_df['s_content_trim'].str.len() <= MIN_CONTENT_CHAR)\n",
    "invalid_mask = (('无正文' == my_df['s_content_trim']) | ('无正文' == my_df['s_author_trim']))\n",
    "too_short_mask =  empty_title_mask | too_short_cotent_mask | invalid_mask\n",
    "# filtered_my_df = my_df.loc[too_short_mask]\n",
    "# filtered_my_df\n",
    "\n",
    "my_df = my_df.loc[~too_short_mask][[\n",
    "  's_author_trim', 's_title_trim', 's_content_trim']]\n",
    "print(\"my_df size\", len(my_df))"
   ]
  },
  {
   "cell_type": "code",
   "execution_count": 60,
   "metadata": {
    "execution": {
     "iopub.execute_input": "2024-12-03T16:45:06.428922Z",
     "iopub.status.busy": "2024-12-03T16:45:06.428325Z",
     "iopub.status.idle": "2024-12-03T16:45:07.412547Z",
     "shell.execute_reply": "2024-12-03T16:45:07.411606Z",
     "shell.execute_reply.started": "2024-12-03T16:45:06.428861Z"
    },
    "scrolled": true
   },
   "outputs": [
    {
     "name": "stdout",
     "output_type": "stream",
     "text": [
      "left 225853\r\n"
     ]
    }
   ],
   "source": [
    "import re\n",
    "result_dict = {\n",
    "    's_author_trim': [],\n",
    "    's_title_trim': [],\n",
    "    's_content_trim': [],\n",
    "}\n",
    "for i, row in my_df.iterrows():\n",
    "  c = row['s_content_trim']\n",
    "  snippets = list(re.split('，|。|？', c))\n",
    "  lens = [len(s) for s in snippets if s.strip() != '']\n",
    "  if max(lens) != min(lens) or max(lens) not in [5, 7]:\n",
    "    continue\n",
    "  result_dict['s_author_trim'].append(row['s_author_trim'])\n",
    "  result_dict['s_title_trim'].append(row['s_title_trim'])\n",
    "  result_dict['s_content_trim'].append(c)\n",
    "# print(\"get rid of \", sum(bad_items))\n",
    "my_df = pd.DataFrame(data=result_dict)\n",
    "print(\"left\", len(my_df))"
   ]
  },
  {
   "cell_type": "code",
   "execution_count": 61,
   "metadata": {
    "execution": {
     "iopub.execute_input": "2024-12-03T16:45:07.414088Z",
     "iopub.status.busy": "2024-12-03T16:45:07.413544Z",
     "iopub.status.idle": "2024-12-03T16:45:07.420785Z",
     "shell.execute_reply": "2024-12-03T16:45:07.419973Z",
     "shell.execute_reply.started": "2024-12-03T16:45:07.414055Z"
    },
    "scrolled": true
   },
   "outputs": [],
   "source": [
    "AUTHOR_PROMPT = \"模仿：\"\n",
    "TITLE_PROMPT = \"作诗：\"\n",
    "EOS_TOKEN = '</s>'\n",
    "def build_dataset_df(df, include_author=True):\n",
    "  dfc = df.copy()\n",
    "  if include_author:\n",
    "    dfc['source_text'] = TITLE_PROMPT + df['s_title_trim'] + EOS_TOKEN + AUTHOR_PROMPT + df['s_author_trim']\n",
    "  else:\n",
    "    dfc['source_text'] = TITLE_PROMPT + df['s_title_trim']\n",
    "  dfc['target_text'] = df['s_content_trim']\n",
    "  dfc = dfc[['source_text', 'target_text']]\n",
    "  return dfc"
   ]
  },
  {
   "cell_type": "markdown",
   "metadata": {},
   "source": [
    "带有作者的数据"
   ]
  },
  {
   "cell_type": "code",
   "execution_count": null,
   "metadata": {
    "execution": {
     "iopub.execute_input": "2024-12-03T16:45:07.421898Z",
     "iopub.status.busy": "2024-12-03T16:45:07.421654Z",
     "iopub.status.idle": "2024-12-03T16:45:07.523417Z",
     "shell.execute_reply": "2024-12-03T16:45:07.522135Z",
     "shell.execute_reply.started": "2024-12-03T16:45:07.421875Z"
    },
    "scrolled": true
   },
   "outputs": [],
   "source": [
    "df_author_title_content = build_dataset_df(my_df, True)\n",
    "df_author_title_content[100:105]"
   ]
  },
  {
   "cell_type": "markdown",
   "metadata": {},
   "source": [
    "不带作者的数据"
   ]
  },
  {
   "cell_type": "code",
   "execution_count": 63,
   "metadata": {
    "execution": {
     "iopub.execute_input": "2024-12-03T16:45:07.524988Z",
     "iopub.status.busy": "2024-12-03T16:45:07.524703Z",
     "iopub.status.idle": "2024-12-03T16:45:07.634344Z",
     "shell.execute_reply": "2024-12-03T16:45:07.627245Z",
     "shell.execute_reply.started": "2024-12-03T16:45:07.524961Z"
    },
    "scrolled": true
   },
   "outputs": [
    {
     "data": {
      "text/html": [
       "<div>\n",
       "<style scoped>\n",
       "    .dataframe tbody tr th:only-of-type {\n",
       "        vertical-align: middle;\n",
       "    }\n",
       "\n",
       "    .dataframe tbody tr th {\n",
       "        vertical-align: top;\n",
       "    }\n",
       "\n",
       "    .dataframe thead th {\n",
       "        text-align: right;\n",
       "    }\n",
       "</style>\n",
       "<table border=\"1\" class=\"dataframe\">\n",
       "  <thead>\n",
       "    <tr style=\"text-align: right;\">\n",
       "      <th></th>\n",
       "      <th>source_text</th>\n",
       "      <th>target_text</th>\n",
       "    </tr>\n",
       "  </thead>\n",
       "  <tbody>\n",
       "    <tr>\n",
       "      <th>100</th>\n",
       "      <td>作诗：九月九日幸临渭亭登高得秋</td>\n",
       "      <td>九月正乘秋，三杯兴已周。泛桂迎尊满，吹花向酒浮。</td>\n",
       "    </tr>\n",
       "    <tr>\n",
       "      <th>101</th>\n",
       "      <td>作诗：登骊山高顶寓目</td>\n",
       "      <td>四郊秦汉国，八水帝王都。阊阖雄里闬，城阙壮规模。</td>\n",
       "    </tr>\n",
       "    <tr>\n",
       "      <th>102</th>\n",
       "      <td>作诗：幸秦始皇陵</td>\n",
       "      <td>眷言君失德，骊邑想秦余。政烦方改篆，愚俗乃焚书。</td>\n",
       "    </tr>\n",
       "    <tr>\n",
       "      <th>103</th>\n",
       "      <td>作诗：立春日游苑迎春</td>\n",
       "      <td>神皐福地三秦邑，玉台金阙九仙家。寒光犹恋甘泉树，淑景偏临建始花。</td>\n",
       "    </tr>\n",
       "    <tr>\n",
       "      <th>104</th>\n",
       "      <td>作诗：十月诞辰内殿宴羣臣效柏梁</td>\n",
       "      <td>润色鸿业寄贤才，叨居右弼媿盐梅。运筹帷幄荷时来，职掌图籍滥蓬莱。</td>\n",
       "    </tr>\n",
       "  </tbody>\n",
       "</table>\n",
       "</div>"
      ],
      "text/plain": [
       "         source_text                       target_text\n",
       "100  作诗：九月九日幸临渭亭登高得秋          九月正乘秋，三杯兴已周。泛桂迎尊满，吹花向酒浮。\n",
       "101       作诗：登骊山高顶寓目          四郊秦汉国，八水帝王都。阊阖雄里闬，城阙壮规模。\n",
       "102         作诗：幸秦始皇陵          眷言君失德，骊邑想秦余。政烦方改篆，愚俗乃焚书。\n",
       "103       作诗：立春日游苑迎春  神皐福地三秦邑，玉台金阙九仙家。寒光犹恋甘泉树，淑景偏临建始花。\n",
       "104  作诗：十月诞辰内殿宴羣臣效柏梁  润色鸿业寄贤才，叨居右弼媿盐梅。运筹帷幄荷时来，职掌图籍滥蓬莱。"
      ]
     },
     "execution_count": 63,
     "metadata": {},
     "output_type": "execute_result"
    }
   ],
   "source": [
    "\n",
    "df_title_content = build_dataset_df(my_df, False)\n",
    "df_title_content[100:105]"
   ]
  },
  {
   "cell_type": "code",
   "execution_count": 64,
   "metadata": {
    "execution": {
     "iopub.execute_input": "2024-12-03T16:45:07.639247Z",
     "iopub.status.busy": "2024-12-03T16:45:07.638895Z",
     "iopub.status.idle": "2024-12-03T16:45:07.710769Z",
     "shell.execute_reply": "2024-12-03T16:45:07.709297Z",
     "shell.execute_reply.started": "2024-12-03T16:45:07.639217Z"
    },
    "scrolled": true
   },
   "outputs": [],
   "source": [
    "\n",
    "merged_df = pd.concat([df_author_title_content, df_title_content])"
   ]
  },
  {
   "cell_type": "code",
   "execution_count": 65,
   "metadata": {
    "execution": {
     "iopub.execute_input": "2024-12-03T16:45:07.712631Z",
     "iopub.status.busy": "2024-12-03T16:45:07.712157Z",
     "iopub.status.idle": "2024-12-03T16:45:07.727238Z",
     "shell.execute_reply": "2024-12-03T16:45:07.726346Z",
     "shell.execute_reply.started": "2024-12-03T16:45:07.712595Z"
    },
    "scrolled": true
   },
   "outputs": [
    {
     "data": {
      "text/html": [
       "<div>\n",
       "<style scoped>\n",
       "    .dataframe tbody tr th:only-of-type {\n",
       "        vertical-align: middle;\n",
       "    }\n",
       "\n",
       "    .dataframe tbody tr th {\n",
       "        vertical-align: top;\n",
       "    }\n",
       "\n",
       "    .dataframe thead th {\n",
       "        text-align: right;\n",
       "    }\n",
       "</style>\n",
       "<table border=\"1\" class=\"dataframe\">\n",
       "  <thead>\n",
       "    <tr style=\"text-align: right;\">\n",
       "      <th></th>\n",
       "      <th>source_text</th>\n",
       "      <th>target_text</th>\n",
       "    </tr>\n",
       "  </thead>\n",
       "  <tbody>\n",
       "    <tr>\n",
       "      <th>178654</th>\n",
       "      <td>作诗：凤门泉&lt;/s&gt;模仿：周文璞</td>\n",
       "      <td>石根两眼北流泉，乳窦潜通御井边。飘出宫花人不识，又沿衰草下山前。</td>\n",
       "    </tr>\n",
       "    <tr>\n",
       "      <th>188770</th>\n",
       "      <td>作诗：和仲弟十绝其&lt;/s&gt;模仿：刘克庄</td>\n",
       "      <td>懒窥户外问晴阴，静向窗前閲古今。江国事稀聊袖手，钧天夢断久灰心。</td>\n",
       "    </tr>\n",
       "    <tr>\n",
       "      <th>71566</th>\n",
       "      <td>作诗：和吕秘校其二</td>\n",
       "      <td>王子如今未夢刀，不须感慨论官曹。寝郎悟意犹爲相，鄠尉知名固可褒。</td>\n",
       "    </tr>\n",
       "    <tr>\n",
       "      <th>42945</th>\n",
       "      <td>作诗：观灯玉台体十首其四</td>\n",
       "      <td>火树灯山高入云，红筵翠幄自成春。游女有时还解佩，青楼何处不留人。</td>\n",
       "    </tr>\n",
       "    <tr>\n",
       "      <th>77779</th>\n",
       "      <td>作诗：次韵答张天觉二首其</td>\n",
       "      <td>车轻马稳轡衔坚，但有蚊蝱喜扑缘。截断口前君莫问，人间差乐胜巢仙。</td>\n",
       "    </tr>\n",
       "    <tr>\n",
       "      <th>...</th>\n",
       "      <td>...</td>\n",
       "      <td>...</td>\n",
       "    </tr>\n",
       "    <tr>\n",
       "      <th>33325</th>\n",
       "      <td>作诗：宫词百首三十九</td>\n",
       "      <td>锦褥花明满殿铺，宫娥分坐学樗蒲。欲教官马冲关过，呪愿纤纤早掷卢。</td>\n",
       "    </tr>\n",
       "    <tr>\n",
       "      <th>139985</th>\n",
       "      <td>作诗：村饮</td>\n",
       "      <td>吴中霣霜晚，冬草有未衰。坐令老病叟，遂失凋年悲。</td>\n",
       "    </tr>\n",
       "    <tr>\n",
       "      <th>131932</th>\n",
       "      <td>作诗：送赵德庄右司赴江东漕八首&lt;/s&gt;模仿：曾协</td>\n",
       "      <td>我公廊庙姿，当爲济时霖。生材必有用，应物初无心。</td>\n",
       "    </tr>\n",
       "    <tr>\n",
       "      <th>146867</th>\n",
       "      <td>作诗：早朝紫宸殿贺雪呈尤延之二&lt;/s&gt;模仿：杨万里</td>\n",
       "      <td>雪花将瑞献君王，晴早销迟恋建章。不肯独清须带月，犹嫌未冷更吹霜。</td>\n",
       "    </tr>\n",
       "    <tr>\n",
       "      <th>121958</th>\n",
       "      <td>作诗：凈居寺&lt;/s&gt;模仿：李涧</td>\n",
       "      <td>金地无尘俯碧湾，苍藤古木获幽闲。老僧袖手垂杨裏，静阅渡头人往还。</td>\n",
       "    </tr>\n",
       "  </tbody>\n",
       "</table>\n",
       "<p>451706 rows × 2 columns</p>\n",
       "</div>"
      ],
      "text/plain": [
       "                      source_text                       target_text\n",
       "178654           作诗：凤门泉</s>模仿：周文璞  石根两眼北流泉，乳窦潜通御井边。飘出宫花人不识，又沿衰草下山前。\n",
       "188770        作诗：和仲弟十绝其</s>模仿：刘克庄  懒窥户外问晴阴，静向窗前閲古今。江国事稀聊袖手，钧天夢断久灰心。\n",
       "71566                   作诗：和吕秘校其二  王子如今未夢刀，不须感慨论官曹。寝郎悟意犹爲相，鄠尉知名固可褒。\n",
       "42945                作诗：观灯玉台体十首其四  火树灯山高入云，红筵翠幄自成春。游女有时还解佩，青楼何处不留人。\n",
       "77779                作诗：次韵答张天觉二首其  车轻马稳轡衔坚，但有蚊蝱喜扑缘。截断口前君莫问，人间差乐胜巢仙。\n",
       "...                           ...                               ...\n",
       "33325                  作诗：宫词百首三十九  锦褥花明满殿铺，宫娥分坐学樗蒲。欲教官马冲关过，呪愿纤纤早掷卢。\n",
       "139985                      作诗：村饮          吴中霣霜晚，冬草有未衰。坐令老病叟，遂失凋年悲。\n",
       "131932   作诗：送赵德庄右司赴江东漕八首</s>模仿：曾协          我公廊庙姿，当爲济时霖。生材必有用，应物初无心。\n",
       "146867  作诗：早朝紫宸殿贺雪呈尤延之二</s>模仿：杨万里  雪花将瑞献君王，晴早销迟恋建章。不肯独清须带月，犹嫌未冷更吹霜。\n",
       "121958            作诗：凈居寺</s>模仿：李涧  金地无尘俯碧湾，苍藤古木获幽闲。老僧袖手垂杨裏，静阅渡头人往还。\n",
       "\n",
       "[451706 rows x 2 columns]"
      ]
     },
     "execution_count": 65,
     "metadata": {},
     "output_type": "execute_result"
    }
   ],
   "source": [
    "merged_df = merged_df.sample(frac=1.)\n",
    "merged_df"
   ]
  },
  {
   "cell_type": "markdown",
   "metadata": {},
   "source": [
    "### 3 训练\n",
    "安装一下torch, simplet5等必要库"
   ]
  },
  {
   "cell_type": "code",
   "execution_count": 66,
   "metadata": {
    "execution": {
     "iopub.execute_input": "2024-12-03T16:45:07.728980Z",
     "iopub.status.busy": "2024-12-03T16:45:07.728513Z",
     "iopub.status.idle": "2024-12-03T16:45:07.822384Z",
     "shell.execute_reply": "2024-12-03T16:45:07.814362Z",
     "shell.execute_reply.started": "2024-12-03T16:45:07.728940Z"
    },
    "scrolled": true,
    "tags": []
   },
   "outputs": [
    {
     "name": "stdout",
     "output_type": "stream",
     "text": [
      "Looking in indexes: https://mirror.baidu.com/pypi/simple/, https://mirrors.aliyun.com/pypi/simple/\r\n",
      "Requirement already satisfied: torch in /opt/conda/envs/python35-paddle120-env/lib/python3.10/site-packages (2.5.1)\r\n",
      "Requirement already satisfied: filelock in /opt/conda/envs/python35-paddle120-env/lib/python3.10/site-packages (from torch) (3.16.1)\r\n",
      "Requirement already satisfied: typing-extensions>=4.8.0 in /opt/conda/envs/python35-paddle120-env/lib/python3.10/site-packages (from torch) (4.12.2)\r\n",
      "Requirement already satisfied: networkx in /opt/conda/envs/python35-paddle120-env/lib/python3.10/site-packages (from torch) (3.4.2)\r\n",
      "Requirement already satisfied: jinja2 in /opt/conda/envs/python35-paddle120-env/lib/python3.10/site-packages (from torch) (3.1.4)\r\n",
      "Requirement already satisfied: fsspec in /opt/conda/envs/python35-paddle120-env/lib/python3.10/site-packages (from torch) (2024.9.0)\r\n",
      "Requirement already satisfied: nvidia-cuda-nvrtc-cu12==12.4.127 in /opt/conda/envs/python35-paddle120-env/lib/python3.10/site-packages (from torch) (12.4.127)\r\n",
      "Requirement already satisfied: nvidia-cuda-runtime-cu12==12.4.127 in /opt/conda/envs/python35-paddle120-env/lib/python3.10/site-packages (from torch) (12.4.127)\r\n",
      "Requirement already satisfied: nvidia-cuda-cupti-cu12==12.4.127 in /opt/conda/envs/python35-paddle120-env/lib/python3.10/site-packages (from torch) (12.4.127)\r\n",
      "Requirement already satisfied: nvidia-cudnn-cu12==9.1.0.70 in /opt/conda/envs/python35-paddle120-env/lib/python3.10/site-packages (from torch) (9.1.0.70)\r\n",
      "Requirement already satisfied: nvidia-cublas-cu12==12.4.5.8 in /opt/conda/envs/python35-paddle120-env/lib/python3.10/site-packages (from torch) (12.4.5.8)\r\n",
      "Requirement already satisfied: nvidia-cufft-cu12==11.2.1.3 in /opt/conda/envs/python35-paddle120-env/lib/python3.10/site-packages (from torch) (11.2.1.3)\r\n",
      "Requirement already satisfied: nvidia-curand-cu12==10.3.5.147 in /opt/conda/envs/python35-paddle120-env/lib/python3.10/site-packages (from torch) (10.3.5.147)\r\n",
      "Requirement already satisfied: nvidia-cusolver-cu12==11.6.1.9 in /opt/conda/envs/python35-paddle120-env/lib/python3.10/site-packages (from torch) (11.6.1.9)\r\n",
      "Requirement already satisfied: nvidia-cusparse-cu12==12.3.1.170 in /opt/conda/envs/python35-paddle120-env/lib/python3.10/site-packages (from torch) (12.3.1.170)\r\n",
      "Requirement already satisfied: nvidia-nccl-cu12==2.21.5 in /opt/conda/envs/python35-paddle120-env/lib/python3.10/site-packages (from torch) (2.21.5)\r\n",
      "Requirement already satisfied: nvidia-nvtx-cu12==12.4.127 in /opt/conda/envs/python35-paddle120-env/lib/python3.10/site-packages (from torch) (12.4.127)\r\n",
      "Requirement already satisfied: nvidia-nvjitlink-cu12==12.4.127 in /opt/conda/envs/python35-paddle120-env/lib/python3.10/site-packages (from torch) (12.4.127)\r\n",
      "Requirement already satisfied: triton==3.1.0 in /opt/conda/envs/python35-paddle120-env/lib/python3.10/site-packages (from torch) (3.1.0)\r\n",
      "Requirement already satisfied: sympy==1.13.1 in /opt/conda/envs/python35-paddle120-env/lib/python3.10/site-packages (from torch) (1.13.1)\r\n",
      "Requirement already satisfied: mpmath<1.4,>=1.1.0 in /opt/conda/envs/python35-paddle120-env/lib/python3.10/site-packages (from sympy==1.13.1->torch) (1.3.0)\r\n",
      "Requirement already satisfied: MarkupSafe>=2.0 in /opt/conda/envs/python35-paddle120-env/lib/python3.10/site-packages (from jinja2->torch) (2.1.5)\r\n",
      "\u001b[33mDEPRECATION: pytorch-lightning 1.5.10 has a non-standard dependency specifier torch>=1.7.*. pip 24.1 will enforce this behaviour change. A possible replacement is to upgrade to a newer version of pytorch-lightning or contact the author to suggest that they release a version with a conforming dependency specifiers. Discussion can be found at https://github.com/pypa/pip/issues/12063\u001b[0m\u001b[33m\r\n",
      "\u001b[0mLooking in indexes: https://mirror.baidu.com/pypi/simple/, https://mirrors.aliyun.com/pypi/simple/\r\n",
      "Requirement already satisfied: simplet5 in /opt/conda/envs/python35-paddle120-env/lib/python3.10/site-packages (0.1.4)\r\n",
      "Requirement already satisfied: numpy in /opt/conda/envs/python35-paddle120-env/lib/python3.10/site-packages (from simplet5) (1.26.4)\r\n",
      "Requirement already satisfied: pandas in /opt/conda/envs/python35-paddle120-env/lib/python3.10/site-packages (from simplet5) (2.2.3)\r\n",
      "Requirement already satisfied: sentencepiece in /opt/conda/envs/python35-paddle120-env/lib/python3.10/site-packages (from simplet5) (0.2.0)\r\n",
      "Requirement already satisfied: torch!=1.8.0,>=1.7.0 in /opt/conda/envs/python35-paddle120-env/lib/python3.10/site-packages (from simplet5) (2.5.1)\r\n",
      "Requirement already satisfied: transformers==4.16.2 in /opt/conda/envs/python35-paddle120-env/lib/python3.10/site-packages (from simplet5) (4.16.2)\r\n",
      "Requirement already satisfied: pytorch-lightning==1.5.10 in /opt/conda/envs/python35-paddle120-env/lib/python3.10/site-packages (from simplet5) (1.5.10)\r\n",
      "Requirement already satisfied: future>=0.17.1 in /opt/conda/envs/python35-paddle120-env/lib/python3.10/site-packages (from pytorch-lightning==1.5.10->simplet5) (1.0.0)\r\n",
      "Requirement already satisfied: tqdm>=4.41.0 in /opt/conda/envs/python35-paddle120-env/lib/python3.10/site-packages (from pytorch-lightning==1.5.10->simplet5) (4.66.6)\r\n",
      "Requirement already satisfied: PyYAML>=5.1 in /opt/conda/envs/python35-paddle120-env/lib/python3.10/site-packages (from pytorch-lightning==1.5.10->simplet5) (6.0.2)\r\n",
      "Requirement already satisfied: fsspec!=2021.06.0,>=2021.05.0 in /opt/conda/envs/python35-paddle120-env/lib/python3.10/site-packages (from fsspec[http]!=2021.06.0,>=2021.05.0->pytorch-lightning==1.5.10->simplet5) (2024.9.0)\r\n",
      "Requirement already satisfied: tensorboard>=2.2.0 in /opt/conda/envs/python35-paddle120-env/lib/python3.10/site-packages (from pytorch-lightning==1.5.10->simplet5) (2.18.0)\r\n",
      "Requirement already satisfied: torchmetrics>=0.4.1 in /opt/conda/envs/python35-paddle120-env/lib/python3.10/site-packages (from pytorch-lightning==1.5.10->simplet5) (1.6.0)\r\n",
      "Requirement already satisfied: pyDeprecate==0.3.1 in /opt/conda/envs/python35-paddle120-env/lib/python3.10/site-packages (from pytorch-lightning==1.5.10->simplet5) (0.3.1)\r\n",
      "Requirement already satisfied: packaging>=17.0 in /opt/conda/envs/python35-paddle120-env/lib/python3.10/site-packages (from pytorch-lightning==1.5.10->simplet5) (24.1)\r\n",
      "Requirement already satisfied: typing-extensions in /opt/conda/envs/python35-paddle120-env/lib/python3.10/site-packages (from pytorch-lightning==1.5.10->simplet5) (4.12.2)\r\n",
      "Requirement already satisfied: setuptools==59.5.0 in /opt/conda/envs/python35-paddle120-env/lib/python3.10/site-packages (from pytorch-lightning==1.5.10->simplet5) (59.5.0)\r\n",
      "Requirement already satisfied: filelock in /opt/conda/envs/python35-paddle120-env/lib/python3.10/site-packages (from transformers==4.16.2->simplet5) (3.16.1)\r\n",
      "Requirement already satisfied: huggingface-hub<1.0,>=0.1.0 in /opt/conda/envs/python35-paddle120-env/lib/python3.10/site-packages (from transformers==4.16.2->simplet5) (0.26.2)\r\n",
      "Requirement already satisfied: regex!=2019.12.17 in /opt/conda/envs/python35-paddle120-env/lib/python3.10/site-packages (from transformers==4.16.2->simplet5) (2024.9.11)\r\n",
      "Requirement already satisfied: requests in /opt/conda/envs/python35-paddle120-env/lib/python3.10/site-packages (from transformers==4.16.2->simplet5) (2.32.3)\r\n",
      "Requirement already satisfied: sacremoses in /opt/conda/envs/python35-paddle120-env/lib/python3.10/site-packages (from transformers==4.16.2->simplet5) (0.1.1)\r\n",
      "Requirement already satisfied: tokenizers!=0.11.3,>=0.10.1 in /opt/conda/envs/python35-paddle120-env/lib/python3.10/site-packages (from transformers==4.16.2->simplet5) (0.21.0)\r\n",
      "Requirement already satisfied: networkx in /opt/conda/envs/python35-paddle120-env/lib/python3.10/site-packages (from torch!=1.8.0,>=1.7.0->simplet5) (3.4.2)\r\n",
      "Requirement already satisfied: jinja2 in /opt/conda/envs/python35-paddle120-env/lib/python3.10/site-packages (from torch!=1.8.0,>=1.7.0->simplet5) (3.1.4)\r\n",
      "Requirement already satisfied: nvidia-cuda-nvrtc-cu12==12.4.127 in /opt/conda/envs/python35-paddle120-env/lib/python3.10/site-packages (from torch!=1.8.0,>=1.7.0->simplet5) (12.4.127)\r\n",
      "Requirement already satisfied: nvidia-cuda-runtime-cu12==12.4.127 in /opt/conda/envs/python35-paddle120-env/lib/python3.10/site-packages (from torch!=1.8.0,>=1.7.0->simplet5) (12.4.127)\r\n",
      "Requirement already satisfied: nvidia-cuda-cupti-cu12==12.4.127 in /opt/conda/envs/python35-paddle120-env/lib/python3.10/site-packages (from torch!=1.8.0,>=1.7.0->simplet5) (12.4.127)\r\n",
      "Requirement already satisfied: nvidia-cudnn-cu12==9.1.0.70 in /opt/conda/envs/python35-paddle120-env/lib/python3.10/site-packages (from torch!=1.8.0,>=1.7.0->simplet5) (9.1.0.70)\r\n",
      "Requirement already satisfied: nvidia-cublas-cu12==12.4.5.8 in /opt/conda/envs/python35-paddle120-env/lib/python3.10/site-packages (from torch!=1.8.0,>=1.7.0->simplet5) (12.4.5.8)\r\n",
      "Requirement already satisfied: nvidia-cufft-cu12==11.2.1.3 in /opt/conda/envs/python35-paddle120-env/lib/python3.10/site-packages (from torch!=1.8.0,>=1.7.0->simplet5) (11.2.1.3)\r\n",
      "Requirement already satisfied: nvidia-curand-cu12==10.3.5.147 in /opt/conda/envs/python35-paddle120-env/lib/python3.10/site-packages (from torch!=1.8.0,>=1.7.0->simplet5) (10.3.5.147)\r\n",
      "Requirement already satisfied: nvidia-cusolver-cu12==11.6.1.9 in /opt/conda/envs/python35-paddle120-env/lib/python3.10/site-packages (from torch!=1.8.0,>=1.7.0->simplet5) (11.6.1.9)\r\n",
      "Requirement already satisfied: nvidia-cusparse-cu12==12.3.1.170 in /opt/conda/envs/python35-paddle120-env/lib/python3.10/site-packages (from torch!=1.8.0,>=1.7.0->simplet5) (12.3.1.170)\r\n",
      "Requirement already satisfied: nvidia-nccl-cu12==2.21.5 in /opt/conda/envs/python35-paddle120-env/lib/python3.10/site-packages (from torch!=1.8.0,>=1.7.0->simplet5) (2.21.5)\r\n",
      "Requirement already satisfied: nvidia-nvtx-cu12==12.4.127 in /opt/conda/envs/python35-paddle120-env/lib/python3.10/site-packages (from torch!=1.8.0,>=1.7.0->simplet5) (12.4.127)\r\n",
      "Requirement already satisfied: nvidia-nvjitlink-cu12==12.4.127 in /opt/conda/envs/python35-paddle120-env/lib/python3.10/site-packages (from torch!=1.8.0,>=1.7.0->simplet5) (12.4.127)\r\n",
      "Requirement already satisfied: triton==3.1.0 in /opt/conda/envs/python35-paddle120-env/lib/python3.10/site-packages (from torch!=1.8.0,>=1.7.0->simplet5) (3.1.0)\r\n",
      "Requirement already satisfied: sympy==1.13.1 in /opt/conda/envs/python35-paddle120-env/lib/python3.10/site-packages (from torch!=1.8.0,>=1.7.0->simplet5) (1.13.1)\r\n",
      "Requirement already satisfied: mpmath<1.4,>=1.1.0 in /opt/conda/envs/python35-paddle120-env/lib/python3.10/site-packages (from sympy==1.13.1->torch!=1.8.0,>=1.7.0->simplet5) (1.3.0)\r\n",
      "Requirement already satisfied: python-dateutil>=2.8.2 in /opt/conda/envs/python35-paddle120-env/lib/python3.10/site-packages (from pandas->simplet5) (2.9.0.post0)\r\n",
      "Requirement already satisfied: pytz>=2020.1 in /opt/conda/envs/python35-paddle120-env/lib/python3.10/site-packages (from pandas->simplet5) (2024.2)\r\n",
      "Requirement already satisfied: tzdata>=2022.7 in /opt/conda/envs/python35-paddle120-env/lib/python3.10/site-packages (from pandas->simplet5) (2024.2)\r\n",
      "Requirement already satisfied: aiohttp!=4.0.0a0,!=4.0.0a1 in /opt/conda/envs/python35-paddle120-env/lib/python3.10/site-packages (from fsspec[http]!=2021.06.0,>=2021.05.0->pytorch-lightning==1.5.10->simplet5) (3.10.10)\r\n",
      "Requirement already satisfied: six>=1.5 in /opt/conda/envs/python35-paddle120-env/lib/python3.10/site-packages (from python-dateutil>=2.8.2->pandas->simplet5) (1.16.0)\r\n",
      "Requirement already satisfied: absl-py>=0.4 in /opt/conda/envs/python35-paddle120-env/lib/python3.10/site-packages (from tensorboard>=2.2.0->pytorch-lightning==1.5.10->simplet5) (2.1.0)\r\n",
      "Requirement already satisfied: grpcio>=1.48.2 in /opt/conda/envs/python35-paddle120-env/lib/python3.10/site-packages (from tensorboard>=2.2.0->pytorch-lightning==1.5.10->simplet5) (1.68.1)\r\n",
      "Requirement already satisfied: markdown>=2.6.8 in /opt/conda/envs/python35-paddle120-env/lib/python3.10/site-packages (from tensorboard>=2.2.0->pytorch-lightning==1.5.10->simplet5) (3.7)\r\n",
      "Requirement already satisfied: protobuf!=4.24.0,>=3.19.6 in /opt/conda/envs/python35-paddle120-env/lib/python3.10/site-packages (from tensorboard>=2.2.0->pytorch-lightning==1.5.10->simplet5) (3.20.3)\r\n",
      "Requirement already satisfied: tensorboard-data-server<0.8.0,>=0.7.0 in /opt/conda/envs/python35-paddle120-env/lib/python3.10/site-packages (from tensorboard>=2.2.0->pytorch-lightning==1.5.10->simplet5) (0.7.2)\r\n",
      "Requirement already satisfied: werkzeug>=1.0.1 in /opt/conda/envs/python35-paddle120-env/lib/python3.10/site-packages (from tensorboard>=2.2.0->pytorch-lightning==1.5.10->simplet5) (3.1.1)\r\n",
      "Requirement already satisfied: lightning-utilities>=0.8.0 in /opt/conda/envs/python35-paddle120-env/lib/python3.10/site-packages (from torchmetrics>=0.4.1->pytorch-lightning==1.5.10->simplet5) (0.11.9)\r\n",
      "Requirement already satisfied: MarkupSafe>=2.0 in /opt/conda/envs/python35-paddle120-env/lib/python3.10/site-packages (from jinja2->torch!=1.8.0,>=1.7.0->simplet5) (2.1.5)\r\n",
      "Requirement already satisfied: charset-normalizer<4,>=2 in /opt/conda/envs/python35-paddle120-env/lib/python3.10/site-packages (from requests->transformers==4.16.2->simplet5) (3.4.0)\r\n",
      "Requirement already satisfied: idna<4,>=2.5 in /opt/conda/envs/python35-paddle120-env/lib/python3.10/site-packages (from requests->transformers==4.16.2->simplet5) (3.10)\r\n",
      "Requirement already satisfied: urllib3<3,>=1.21.1 in /opt/conda/envs/python35-paddle120-env/lib/python3.10/site-packages (from requests->transformers==4.16.2->simplet5) (2.2.3)\r\n",
      "Requirement already satisfied: certifi>=2017.4.17 in /opt/conda/envs/python35-paddle120-env/lib/python3.10/site-packages (from requests->transformers==4.16.2->simplet5) (2024.8.30)\r\n",
      "Requirement already satisfied: click in /opt/conda/envs/python35-paddle120-env/lib/python3.10/site-packages (from sacremoses->transformers==4.16.2->simplet5) (8.1.7)\r\n",
      "Requirement already satisfied: joblib in /opt/conda/envs/python35-paddle120-env/lib/python3.10/site-packages (from sacremoses->transformers==4.16.2->simplet5) (1.4.2)\r\n",
      "Requirement already satisfied: aiohappyeyeballs>=2.3.0 in /opt/conda/envs/python35-paddle120-env/lib/python3.10/site-packages (from aiohttp!=4.0.0a0,!=4.0.0a1->fsspec[http]!=2021.06.0,>=2021.05.0->pytorch-lightning==1.5.10->simplet5) (2.4.3)\r\n",
      "Requirement already satisfied: aiosignal>=1.1.2 in /opt/conda/envs/python35-paddle120-env/lib/python3.10/site-packages (from aiohttp!=4.0.0a0,!=4.0.0a1->fsspec[http]!=2021.06.0,>=2021.05.0->pytorch-lightning==1.5.10->simplet5) (1.3.1)\r\n",
      "Requirement already satisfied: attrs>=17.3.0 in /opt/conda/envs/python35-paddle120-env/lib/python3.10/site-packages (from aiohttp!=4.0.0a0,!=4.0.0a1->fsspec[http]!=2021.06.0,>=2021.05.0->pytorch-lightning==1.5.10->simplet5) (24.2.0)\r\n",
      "Requirement already satisfied: frozenlist>=1.1.1 in /opt/conda/envs/python35-paddle120-env/lib/python3.10/site-packages (from aiohttp!=4.0.0a0,!=4.0.0a1->fsspec[http]!=2021.06.0,>=2021.05.0->pytorch-lightning==1.5.10->simplet5) (1.5.0)\r\n",
      "Requirement already satisfied: multidict<7.0,>=4.5 in /opt/conda/envs/python35-paddle120-env/lib/python3.10/site-packages (from aiohttp!=4.0.0a0,!=4.0.0a1->fsspec[http]!=2021.06.0,>=2021.05.0->pytorch-lightning==1.5.10->simplet5) (6.1.0)\r\n",
      "Requirement already satisfied: yarl<2.0,>=1.12.0 in /opt/conda/envs/python35-paddle120-env/lib/python3.10/site-packages (from aiohttp!=4.0.0a0,!=4.0.0a1->fsspec[http]!=2021.06.0,>=2021.05.0->pytorch-lightning==1.5.10->simplet5) (1.17.1)\r\n",
      "Requirement already satisfied: async-timeout<5.0,>=4.0 in /opt/conda/envs/python35-paddle120-env/lib/python3.10/site-packages (from aiohttp!=4.0.0a0,!=4.0.0a1->fsspec[http]!=2021.06.0,>=2021.05.0->pytorch-lightning==1.5.10->simplet5) (4.0.3)\r\n",
      "Requirement already satisfied: propcache>=0.2.0 in /opt/conda/envs/python35-paddle120-env/lib/python3.10/site-packages (from yarl<2.0,>=1.12.0->aiohttp!=4.0.0a0,!=4.0.0a1->fsspec[http]!=2021.06.0,>=2021.05.0->pytorch-lightning==1.5.10->simplet5) (0.2.0)\r\n",
      "\u001b[33mDEPRECATION: pytorch-lightning 1.5.10 has a non-standard dependency specifier torch>=1.7.*. pip 24.1 will enforce this behaviour change. A possible replacement is to upgrade to a newer version of pytorch-lightning or contact the author to suggest that they release a version with a conforming dependency specifiers. Discussion can be found at https://github.com/pypa/pip/issues/12063\u001b[0m\u001b[33m\r\n",
      "\u001b[0m"
     ]
    }
   ],
   "source": [
    "!pip install torch\n",
    "!pip install simplet5\n",
    "import torch\n",
    "from simplet5 import SimpleT5\n",
    "from transformers import T5Tokenizer, T5ForConditionalGeneration"
   ]
  },
  {
   "cell_type": "code",
   "execution_count": 67,
   "metadata": {
    "execution": {
     "iopub.execute_input": "2024-12-03T16:45:07.827820Z",
     "iopub.status.busy": "2024-12-03T16:45:07.827293Z",
     "iopub.status.idle": "2024-12-03T16:45:08.105438Z",
     "shell.execute_reply": "2024-12-03T16:45:08.037068Z",
     "shell.execute_reply.started": "2024-12-03T16:45:07.827771Z"
    },
    "scrolled": true
   },
   "outputs": [],
   "source": [
    "torch.cuda.empty_cache()"
   ]
  },
  {
   "cell_type": "markdown",
   "metadata": {},
   "source": [
    "加载mengzi-t5-base模型"
   ]
  },
  {
   "cell_type": "code",
   "execution_count": 68,
   "metadata": {
    "execution": {
     "iopub.status.busy": "2024-12-03T16:45:08.106470Z",
     "iopub.status.idle": "2024-12-03T16:45:08.106910Z",
     "shell.execute_reply": "2024-12-03T16:45:08.106745Z",
     "shell.execute_reply.started": "2024-12-03T16:45:08.106730Z"
    },
    "scrolled": true
   },
   "outputs": [],
   "source": [
    "# 指定本地模型路径\n",
    "# local_model_path = \"./mengzi_t5_base\"\n",
    "local_model_path = \"./MengziT5_base\"\n",
    "\n",
    "# 定义 extra_ids 数量\n",
    "extra_ids = 100\n",
    "\n",
    "# 创建包含所有 extra_ids 的特殊标记列表\n",
    "additional_special_tokens = [f\"<extra_id_{i}>\" for i in range(extra_ids)]\n",
    "\n",
    "\n",
    "class MengziSimpleT5(SimpleT5):\n",
    "  def __init__(self) -> None:\n",
    "    super().__init__()\n",
    "    self.device = torch.device(\"cuda\")\n",
    "\n",
    "  def load_my_model(self, use_gpu: bool = True):\n",
    "    # self.tokenizer = T5Tokenizer.from_pretrained(local_model_path,\n",
    "    # extra_ids=extra_ids,\n",
    "    # additional_special_tokens=additional_special_tokens)\n",
    "    self.tokenizer = T5Tokenizer.from_pretrained(local_model_path)\n",
    "    self.model = T5ForConditionalGeneration.from_pretrained(local_model_path)"
   ]
  },
  {
   "cell_type": "code",
   "execution_count": 69,
   "metadata": {
    "execution": {
     "iopub.status.busy": "2024-12-03T16:45:08.108780Z",
     "iopub.status.idle": "2024-12-03T16:45:08.109225Z",
     "shell.execute_reply": "2024-12-03T16:45:08.109030Z",
     "shell.execute_reply.started": "2024-12-03T16:45:08.109014Z"
    },
    "scrolled": true,
    "tags": []
   },
   "outputs": [],
   "source": [
    "# # # !pip install requests\n",
    "# # !export HF_ENDPOINT=https://hf-mirror.com\n",
    "# # !export HF_HOME=\"/home/aistudio/hf\"\n",
    "# # # !pwd\n",
    "# # import os\n",
    "# # os.environ['HF_ENDPOINT'] = 'https://hf-mirror.com'\n",
    "# # !cd ./cache\n",
    "# # !ls -la ./.cache/huggingface/transformers\n",
    "\n",
    "# from paddlenlp.transformers import T5ForConditionalGeneration, T5Tokenizer\n",
    "\n",
    "# # 模型保存路径\n",
    "# local_dir = \"./mengzi_t5_base\"\n",
    "\n",
    "# # 下载并保存模型和分词器\n",
    "# model_name = \"Langboat/mengzi-t5-base\"\n",
    "# model = T5ForConditionalGeneration.from_pretrained(model_name)\n",
    "# tokenizer = T5Tokenizer.from_pretrained(model_name)\n",
    "\n",
    "# # 保存到本地\n",
    "# model.save_pretrained(local_dir)\n",
    "# tokenizer.save_pretrained(local_dir)\n",
    "# !zip"
   ]
  },
  {
   "cell_type": "code",
   "execution_count": 70,
   "metadata": {
    "execution": {
     "iopub.status.busy": "2024-12-03T16:45:08.110562Z",
     "iopub.status.idle": "2024-12-03T16:45:08.110875Z",
     "shell.execute_reply": "2024-12-03T16:45:08.110742Z",
     "shell.execute_reply.started": "2024-12-03T16:45:08.110729Z"
    },
    "scrolled": true
   },
   "outputs": [
    {
     "name": "stderr",
     "output_type": "stream",
     "text": [
      "/opt/conda/envs/python35-paddle120-env/lib/python3.10/site-packages/transformers/modeling_utils.py:1435: FutureWarning: You are using `torch.load` with `weights_only=False` (the current default value), which uses the default pickle module implicitly. It is possible to construct malicious pickle data which will execute arbitrary code during unpickling (See https://github.com/pytorch/pytorch/blob/main/SECURITY.md#untrusted-models for more details). In a future release, the default value for `weights_only` will be flipped to `True`. This limits the functions that could be executed during unpickling. Arbitrary objects will no longer be allowed to be loaded via this mode unless they are explicitly allowlisted by the user via `torch.serialization.add_safe_globals`. We recommend you start setting `weights_only=True` for any use case where you don't have full control of the loaded file. Please open an issue on GitHub for any issues related to this experimental feature.\r\n",
      "  state_dict = torch.load(resolved_archive_file, map_location=\"cpu\")\r\n"
     ]
    }
   ],
   "source": [
    "model = MengziSimpleT5()\n",
    "model.load_my_model()\n",
    "model.model = model.model.to('cuda')"
   ]
  },
  {
   "cell_type": "code",
   "execution_count": 71,
   "metadata": {
    "execution": {
     "iopub.status.busy": "2024-12-03T16:45:08.111725Z",
     "iopub.status.idle": "2024-12-03T16:45:08.112095Z",
     "shell.execute_reply": "2024-12-03T16:45:08.111960Z",
     "shell.execute_reply.started": "2024-12-03T16:45:08.111947Z"
    },
    "scrolled": true
   },
   "outputs": [
    {
     "data": {
      "text/plain": [
       "{'input_ids': [1012, 955, 406, 921, 23, 3, 1440, 2180, 799, 355, 4008, 4, 1, 1448, 4152, 690, 3934, 4990, 3, 17544, 178, 2572, 769, 4, 1], 'attention_mask': [1, 1, 1, 1, 1, 1, 1, 1, 1, 1, 1, 1, 1, 1, 1, 1, 1, 1, 1, 1, 1, 1, 1, 1, 1]}"
      ]
     },
     "execution_count": 71,
     "metadata": {},
     "output_type": "execute_result"
    }
   ],
   "source": [
    "model.tokenizer(\"桥形通汉上，峰势接云危。</s>烟霞交隐映，花鸟自参差。\")"
   ]
  },
  {
   "cell_type": "code",
   "execution_count": 72,
   "metadata": {
    "execution": {
     "iopub.status.busy": "2024-12-03T16:45:08.113394Z",
     "iopub.status.idle": "2024-12-03T16:45:08.114152Z",
     "shell.execute_reply": "2024-12-03T16:45:08.113930Z",
     "shell.execute_reply.started": "2024-12-03T16:45:08.113908Z"
    },
    "scrolled": true
   },
   "outputs": [
    {
     "data": {
      "text/plain": [
       "'桥形通汉上,峰势接云危。</s> 烟霞交隐映,花鸟自参差。</s>'"
      ]
     },
     "execution_count": 72,
     "metadata": {},
     "output_type": "execute_result"
    }
   ],
   "source": [
    "model.tokenizer.decode([1012, 955, 406, 921, 23, 3, 1440, 2180, 799, 355, 4008, 4, 1, 1448, 4152, 690, 3934, 4990, 3, 17544, 178, 2572, 769, 4, 1])"
   ]
  },
  {
   "cell_type": "markdown",
   "metadata": {},
   "source": [
    "将数据集以0.98, 0.02的比例划分为训练集和验证集"
   ]
  },
  {
   "cell_type": "code",
   "execution_count": 73,
   "metadata": {
    "execution": {
     "iopub.status.busy": "2024-12-03T16:45:08.115069Z",
     "iopub.status.idle": "2024-12-03T16:45:08.115471Z",
     "shell.execute_reply": "2024-12-03T16:45:08.115290Z",
     "shell.execute_reply.started": "2024-12-03T16:45:08.115274Z"
    },
    "scrolled": true
   },
   "outputs": [],
   "source": [
    "from sklearn.model_selection import train_test_split\n",
    "merged_df = merged_df.sample(frac=1) # Shuffle\n",
    "train_df, eval_df = train_test_split(merged_df, test_size=0.02)"
   ]
  },
  {
   "cell_type": "code",
   "execution_count": 74,
   "metadata": {
    "execution": {
     "iopub.status.busy": "2024-12-03T16:45:08.116777Z",
     "iopub.status.idle": "2024-12-03T16:45:08.117165Z",
     "shell.execute_reply": "2024-12-03T16:45:08.116985Z",
     "shell.execute_reply.started": "2024-12-03T16:45:08.116972Z"
    },
    "scrolled": true
   },
   "outputs": [
    {
     "name": "stdout",
     "output_type": "stream",
     "text": [
      "train 442671 eval 9035\r\n"
     ]
    }
   ],
   "source": [
    "print(\"train\", len(train_df), \"eval\", len(eval_df))"
   ]
  },
  {
   "cell_type": "markdown",
   "metadata": {},
   "source": [
    "开始训练"
   ]
  },
  {
   "cell_type": "code",
   "execution_count": 79,
   "metadata": {
    "execution": {
     "iopub.status.busy": "2024-12-03T16:45:08.118210Z",
     "iopub.status.idle": "2024-12-03T16:45:08.118623Z",
     "shell.execute_reply": "2024-12-03T16:45:08.118440Z",
     "shell.execute_reply.started": "2024-12-03T16:45:08.118425Z"
    },
    "scrolled": true,
    "tags": []
   },
   "outputs": [
    {
     "name": "stderr",
     "output_type": "stream",
     "text": [
      "GPU available: True, used: True\r\n",
      "TPU available: False, using: 0 TPU cores\r\n",
      "IPU available: False, using: 0 IPUs\r\n",
      "LOCAL_RANK: 0 - CUDA_VISIBLE_DEVICES: [0]\r\n",
      "\r\n",
      "  | Name  | Type                       | Params\r\n",
      "-----------------------------------------------------\r\n",
      "0 | model | T5ForConditionalGeneration | 247 M \r\n",
      "-----------------------------------------------------\r\n",
      "247 M     Trainable params\r\n",
      "0         Non-trainable params\r\n",
      "247 M     Total params\r\n",
      "990.311   Total estimated model params size (MB)\r\n"
     ]
    },
    {
     "name": "stdout",
     "output_type": "stream",
     "text": [
      "                                                                      "
     ]
    },
    {
     "name": "stderr",
     "output_type": "stream",
     "text": [
      "Global seed set to 42\r\n"
     ]
    },
    {
     "name": "stdout",
     "output_type": "stream",
     "text": [
      "Epoch 4:  33%|███▎      | 580/1766 [09:57<20:21,  1.03s/it, loss=3.43, v_num=3, train_loss_step=3.400, val_loss_step=3.570, val_loss_epoch=3.550, train_loss_epoch=3.590] "
     ]
    }
   ],
   "source": [
    "model.train(train_df=train_df,\n",
    "            eval_df=eval_df,\n",
    "            source_max_token_len=(len(TITLE_PROMPT) + MAX_TITLE_CHAR +  1 + len(AUTHOR_PROMPT) + MAX_AUTHOR_CHAR),\n",
    "            target_max_token_len=MAX_CONTENT_CHAR,\n",
    "            batch_size=256,\n",
    "            max_epochs=5,\n",
    "            use_gpu=True,\n",
    "            outputdir=\"./Models/t5-poem-v2.1\")"
   ]
  },
  {
   "cell_type": "markdown",
   "metadata": {},
   "source": [
    "### 4 测试\n",
    "训练完成后，对模型效果进行测试"
   ]
  },
  {
   "cell_type": "code",
   "execution_count": null,
   "metadata": {
    "execution": {
     "iopub.status.busy": "2024-12-03T16:45:08.119745Z",
     "iopub.status.idle": "2024-12-03T16:45:08.120120Z",
     "shell.execute_reply": "2024-12-03T16:45:08.119948Z",
     "shell.execute_reply.started": "2024-12-03T16:45:08.119933Z"
    },
    "scrolled": true
   },
   "outputs": [],
   "source": [
    "def poem(title_str, opt_author=None, model=model,\n",
    "         is_input_traditional_chinese=False,\n",
    "         num_beams=2):\n",
    "  model.model = model.model.to('cuda')\n",
    "  if opt_author:\n",
    "    in_request = TITLE_PROMPT + title_str[:MAX_TITLE_CHAR] + EOS_TOKEN + AUTHOR_PROMPT + opt_author[:MAX_AUTHOR_CHAR]\n",
    "  else:\n",
    "    in_request = TITLE_PROMPT + title_str[:MAX_TITLE_CHAR]\n",
    "  if is_input_traditional_chinese:\n",
    "    in_request = chinese_converter.to_simplified(in_request)\n",
    "  out = model.predict(in_request,\n",
    "                      max_length=MAX_CONTENT_CHAR,\n",
    "                      num_beams=num_beams)[0].replace(\",\", \"，\")\n",
    "  if is_input_traditional_chinese:\n",
    "    out = chinese_converter.to_traditional(out)\n",
    "    print(f\"標題： {in_request.replace('</s>', ' ')}\\n詩歌： {out}\")\n",
    "  else:\n",
    "    print(f\"标题： {in_request.replace('</s>', ' ')}\\n诗歌： {out}\")"
   ]
  },
  {
   "cell_type": "code",
   "execution_count": 77,
   "metadata": {
    "execution": {
     "iopub.status.busy": "2024-12-03T16:45:08.121846Z",
     "iopub.status.idle": "2024-12-03T16:45:08.122313Z",
     "shell.execute_reply": "2024-12-03T16:45:08.122117Z",
     "shell.execute_reply.started": "2024-12-03T16:45:08.122099Z"
    },
    "scrolled": true
   },
   "outputs": [
    {
     "name": "stdout",
     "output_type": "stream",
     "text": [
      "标题： 作诗：秋思\r\n",
      "诗歌： 西风送秋思，北风起南枝。黄叶满庭树，白露湿衣襟。\r\n",
      "标题： 作诗：秋思 模仿：杜甫\r\n",
      "诗歌： 秋思苦不眠，夜吟愁复起。天高云欲雨，风定雁初飞。\r\n",
      "标题： 作诗：秋思 模仿：李白\r\n",
      "诗歌： 秋风吹客衣，西风起我愁。独坐对明月，不觉夜来时。\r\n",
      "标题： 作诗：秋思 模仿：李清照\r\n",
      "诗歌： 江上秋容好，山中夜气清。月明寒未落，风冷客愁生。\r\n",
      "标题： 作诗：秋思 模仿：苏轼\r\n",
      "诗歌： 秋声萧萧入夢思，夜雨淅淅鸣蟋蟀。西风吹我衣衾冷，北窗凉生枕簟眠。\r\n",
      "\r\n",
      "标题： 作诗：百花\r\n",
      "诗歌： 百花如玉照春光，花外花开几度香。莫道人间多好物，只应无此与君同。\r\n",
      "标题： 作诗：百花 模仿：杜甫\r\n",
      "诗歌： 百花开后百花，红紫纷纷满地红。谁家春色无多子，独有东风向晚风。\r\n",
      "标题： 作诗：百花 模仿：李白\r\n",
      "诗歌： 百花如玉色，不与衆芳同。若使君王爱，何妨我辈人。\r\n",
      "标题： 作诗：百花 模仿：李清照\r\n",
      "诗歌： 百花开尽满城春，花柳如丝绿未匀。欲识芳菲无限意，只将红粉染胭脂。\r\n",
      "标题： 作诗：百花 模仿：苏轼\r\n",
      "诗歌： 百花开后日，花木发新枝。不待春风至，何妨晚节来。\r\n",
      "\r\n",
      "标题： 作诗：佳人有约\r\n",
      "诗歌： 佳人有约在芳辰，花发红英照眼新。不待春风催柳絮，却教春色到人间。\r\n",
      "标题： 作诗：佳人有约 模仿：杜甫\r\n",
      "诗歌： 佳人有约在天涯，不似花间笑语同。春色已随桃李发，雨声犹逐燕啼。\r\n",
      "标题： 作诗：佳人有约 模仿：李白\r\n",
      "诗歌： 佳人有约今何许，花柳阴阴满地香。莫道春风吹不至，且将红粉照窗纱。\r\n",
      "标题： 作诗：佳人有约 模仿：李清照\r\n",
      "诗歌： 佳人有约到芳丛，爲报春光入酒杯。花下红楼开宴座，月中黄屋起歌声。\r\n",
      "标题： 作诗：佳人有约 模仿：苏轼\r\n",
      "诗歌： 佳人有约醉中仙，花下相邀笑语同。莫道春光催酒盏，且教红粉染胭脂\r\n",
      "\r\n"
     ]
    }
   ],
   "source": [
    "for title in ['秋思', \"百花\", '佳人有约']:\n",
    "  # Empty author means general style\n",
    "  for author in ['', \"杜甫\", \"李白\", \"李清照\", \"苏轼\"]:\n",
    "    poem(title, author)\n",
    "  print()"
   ]
  },
  {
   "cell_type": "code",
   "execution_count": 78,
   "metadata": {
    "execution": {
     "iopub.status.busy": "2024-12-03T16:45:08.123367Z",
     "iopub.status.idle": "2024-12-03T16:45:08.123740Z",
     "shell.execute_reply": "2024-12-03T16:45:08.123569Z",
     "shell.execute_reply.started": "2024-12-03T16:45:08.123553Z"
    },
    "scrolled": true
   },
   "outputs": [
    {
     "name": "stdout",
     "output_type": "stream",
     "text": [
      "num beams: 2\r\n",
      "标题： 作诗：冬雪\r\n",
      "诗歌： 朔风卷地雪纷纷，飞霰飘然下帝阍。天遣玉人成底事，人间无此与谁同。\r\n",
      "num beams: 3\r\n",
      "标题： 作诗：冬雪\r\n",
      "诗歌： 朔风吹雪满江城，万瓦琼花照眼明。老去只知身是客，病来惟觉鬓成丝。\r\n",
      "num beams: 5\r\n",
      "标题： 作诗：冬雪\r\n",
      "诗歌： 腊雪连三白，寒云入九重。天公忧岁晚，我独喜春深。\r\n",
      "num beams: 10\r\n",
      "标题： 作诗：冬雪\r\n",
      "诗歌： 朔风吹雪满江城，万木千林冻不收。忽有飞花纷扑地，不知何物是吾家。\r\n",
      "num beams: 20\r\n",
      "标题： 作诗：冬雪\r\n",
      "诗歌： 朔风卷地雪纷纷，白帝楼头雪作花。老去不知身是客，今朝重见鬓成翁。\r\n",
      "num beams: 50\r\n",
      "标题： 作诗：冬雪\r\n",
      "诗歌： 朔风吹雪满天涯，独倚阑干对落晖。老去不知身是客，故来犹喜鬓成丝。\r\n",
      "num beams: 100\r\n",
      "标题： 作诗：冬雪\r\n",
      "诗歌： 朔风吹雪白皑皑，万瓦琼花照眼明。不道人间无此景，却疑天上有佳人。\r\n",
      "num beams: 200\r\n",
      "标题： 作诗：冬雪\r\n",
      "诗歌： 腊后寒犹重，冬来雪未消。遥知春意早，已觉岁华徂。\r\n",
      "--------------------------------------------------------------------------------\r\n",
      "num beams: 2\r\n",
      "标题： 作诗：冬雪 模仿：杜甫\r\n",
      "诗歌： 冬雪何太早，朔风已惨凄。天公不可见，我辈岂能知。\r\n",
      "num beams: 3\r\n",
      "标题： 作诗：冬雪 模仿：杜甫\r\n",
      "诗歌： 朔风卷地来，飞雪满空山。寒气侵人骨，清光入客衣。\r\n",
      "num beams: 5\r\n",
      "标题： 作诗：冬雪 模仿：杜甫\r\n",
      "诗歌： 朔雪连年积，阴风卷地来。天寒犹有雪，岁晚更无梅。\r\n",
      "num beams: 10\r\n",
      "标题： 作诗：冬雪 模仿：杜甫\r\n",
      "诗歌： 江上雪初下，山前雪未消。冻云凝不散，飞雪满空山。\r\n",
      "num beams: 20\r\n",
      "标题： 作诗：冬雪 模仿：杜甫\r\n",
      "诗歌： 腊后冬来雪，今朝霰雪飞。朔风欺客帽，寒日逼人衣。\r\n",
      "num beams: 50\r\n",
      "标题： 作诗：冬雪 模仿：杜甫\r\n",
      "诗歌： 朔风卷地来，冬雪满空山。寒气入肌骨，冷光侵肌骨。\r\n",
      "num beams: 100\r\n",
      "标题： 作诗：冬雪 模仿：杜甫\r\n",
      "诗歌： 腊雪连三白，冬雪满两黄。北风犹未定，南雁已先飞。\r\n",
      "num beams: 200\r\n",
      "标题： 作诗：冬雪 模仿：杜甫\r\n",
      "诗歌： 去年雪中见，今朝雪裏看。今年梅未白，今日柳先黄。\r\n",
      "--------------------------------------------------------------------------------\r\n"
     ]
    }
   ],
   "source": [
    "for title in ['冬雪']:\n",
    "  for author in  ['', \"杜甫\"]:\n",
    "    for num_beams in (2, 3, 5, 10, 20, 50, 100, 200):\n",
    "      print(f\"num beams: {num_beams}\")\n",
    "      poem(title, author, num_beams=num_beams)\n",
    "    print(\"-\"*80)"
   ]
  }
 ],
 "metadata": {
  "kernelspec": {
   "display_name": "Python 3",
   "language": "python",
   "name": "py35-paddle1.2.0"
  },
  "language_info": {
   "codemirror_mode": {
    "name": "ipython",
    "version": 3
   },
   "file_extension": ".py",
   "mimetype": "text/x-python",
   "name": "python",
   "nbconvert_exporter": "python",
   "pygments_lexer": "ipython3",
   "version": "3.10.10"
  },
  "vscode": {
   "interpreter": {
    "hash": "e7370f93d1d0cde622a1f8e1c04877d8463912d04d973331ad4851f04de6915a"
   }
  }
 },
 "nbformat": 4,
 "nbformat_minor": 4
}
